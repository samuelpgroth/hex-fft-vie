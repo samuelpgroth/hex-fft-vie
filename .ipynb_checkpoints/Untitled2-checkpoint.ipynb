{
 "cells": [
  {
   "cell_type": "code",
   "execution_count": 1,
   "metadata": {},
   "outputs": [],
   "source": [
    "# VIE over hexagonal grid\n",
    "import numpy as np\n",
    "from scipy.special import hankel1"
   ]
  },
  {
   "cell_type": "code",
   "execution_count": 2,
   "metadata": {},
   "outputs": [],
   "source": [
    "ko = 5  # Wavenumber\n",
    "rad = 1. # radius of circle\n",
    "lam = 2*np.pi/ko\n",
    "refInd = 1.3\n",
    "n_per_lam = 10  # Pixels per wavelength\n",
    "\n",
    "h_temp = lam / n_per_lam # temp pixel dimension\n",
    "\n",
    "wx = 2 * rad\n",
    "wy = 2 * rad\n",
    "\n",
    "# How many points in x and y directions\n",
    "N = np.int(np.ceil(wy / h_temp))\n",
    "\n",
    "dy = wy / N;\n",
    "dx = 3 * dy / np.sqrt(3);\n",
    "M = np.int(np.ceil(wx / dx))\n",
    "wx = M*dx;\n",
    "a_hex = dx / 3\n",
    "\n",
    "A = 3 * np.sqrt(3) / 2 * a_hex**2      # pixel area\n",
    "a = np.sqrt(A / np.pi ) # radius of equivalent-area circle\n",
    "\n",
    "# Get coordinates of points on grid    \n",
    "x_temp = np.zeros((M*N, 1), dtype=np.complex128);\n",
    "counter= 0;\n",
    "for j in range(N):\n",
    "    for i in range(M):\n",
    "        x_temp[counter] = -wx/2 + dx/2+dx*i \\\n",
    "            - 1j*wy/2 + 1j * (dy/2+dy*j)\n",
    "        counter=counter+1\n",
    "\n",
    "x_coord = (np.arange(M)+1) * dx - dx/2 - wx/2;\n",
    "y_coord = (np.arange(N)+1) * dy - dy/2 - wy/2;"
   ]
  },
  {
   "cell_type": "code",
   "execution_count": 3,
   "metadata": {},
   "outputs": [
    {
     "data": {
      "text/plain": [
       "2.0"
      ]
     },
     "execution_count": 3,
     "metadata": {},
     "output_type": "execute_result"
    }
   ],
   "source": [
    "2*rad"
   ]
  },
  {
   "cell_type": "code",
   "execution_count": 4,
   "metadata": {},
   "outputs": [
    {
     "data": {
      "text/plain": [
       "2.165063509461097"
      ]
     },
     "execution_count": 4,
     "metadata": {},
     "output_type": "execute_result"
    }
   ],
   "source": [
    "wx"
   ]
  },
  {
   "cell_type": "code",
   "execution_count": null,
   "metadata": {},
   "outputs": [],
   "source": []
  },
  {
   "cell_type": "code",
   "execution_count": 5,
   "metadata": {},
   "outputs": [
    {
     "data": {
      "text/plain": [
       "array([-0.97427858, -0.75777223, -0.54126588, -0.32475953, -0.10825318,\n",
       "        0.10825318,  0.32475953,  0.54126588,  0.75777223,  0.97427858])"
      ]
     },
     "execution_count": 5,
     "metadata": {},
     "output_type": "execute_result"
    }
   ],
   "source": [
    "x_coord"
   ]
  },
  {
   "cell_type": "code",
   "execution_count": 6,
   "metadata": {},
   "outputs": [
    {
     "data": {
      "text/plain": [
       "<matplotlib.collections.PathCollection at 0x81e1d54e0>"
      ]
     },
     "execution_count": 6,
     "metadata": {},
     "output_type": "execute_result"
    },
    {
     "data": {
      "image/png": "[encoded data removed]",
      "text/plain": [
       "<Figure size 864x576 with 1 Axes>"
      ]
     },
     "metadata": {
      "needs_background": "light"
     },
     "output_type": "display_data"
    }
   ],
   "source": [
    "x = np.concatenate([x_temp, x_temp+dx/2+1j*dy/2]);\n",
    "%matplotlib inline\n",
    "from matplotlib import pyplot as plt\n",
    "fig = plt.figure(figsize=(12, 8))\n",
    "ax = fig.gca()\n",
    "ax.scatter(np.real(x), np.imag(x))"
   ]
  },
  {
   "cell_type": "code",
   "execution_count": 7,
   "metadata": {},
   "outputs": [],
   "source": [
    "perm = np.ones(2*M*N);\n",
    "idx = np.where(np.abs(x)<=rad)\n",
    "perm[idx[0]] = refInd**2;  # assume permittivity of scatterer is 2 for now\n",
    "Mr = perm - 1;"
   ]
  },
  {
   "cell_type": "code",
   "execution_count": 8,
   "metadata": {},
   "outputs": [],
   "source": [
    "# Incident plane wave\n",
    "dInc = np.array([1,0]);\n",
    "eInc = np.zeros((2*M*N,1), dtype=np.complex128);\n",
    "eInc[idx[0]] = np.exp(1j * ko * (np.real(x[idx[0]])*dInc[0] + np.imag(x[idx[0]]*dInc[1])))\n",
    "EINC = eInc.reshape(2*M, N, order = 'F')"
   ]
  },
  {
   "cell_type": "code",
   "execution_count": 9,
   "metadata": {},
   "outputs": [],
   "source": [
    "# Fundamental solution of the Helmholtz equation\n",
    "g = lambda x, y : A * 1j/4 * hankel1(0, ko*np.abs(x - y));\n",
    "# Self term\n",
    "self = a**2*1j*np.pi/2* ((1+1j*np.euler_gamma)/2-1j/np.pi+1j/np.pi*np.log(ko*a/2));"
   ]
  },
  {
   "cell_type": "code",
   "execution_count": 10,
   "metadata": {},
   "outputs": [],
   "source": [
    "G = np.zeros((2*M*N,2*M*N), dtype=np.complex128)\n",
    "for i in range(2*M*N):\n",
    "    for j in range(2*M*N):\n",
    "        if i==j:\n",
    "            G[i,j] = self;\n",
    "        else:\n",
    "            G[i,j] = g(x[i],x[j]);"
   ]
  },
  {
   "cell_type": "code",
   "execution_count": 11,
   "metadata": {},
   "outputs": [],
   "source": [
    "mat = G\n",
    "op = np.eye(2*M*N) - ko**2 * Mr * G\n",
    "# eOut = op \\ eInc(:);\n",
    "eOut = np.linalg.solve(op, eInc)"
   ]
  },
  {
   "cell_type": "code",
   "execution_count": 12,
   "metadata": {},
   "outputs": [],
   "source": [
    "# Compute the field in whole computation domain\n",
    "EOUT = eOut.T - ko**2 * Mr * (np.matmul(G, (Mr * eOut.T).T)).T"
   ]
  },
  {
   "cell_type": "code",
   "execution_count": 13,
   "metadata": {},
   "outputs": [
    {
     "data": {
      "text/plain": [
       "(1, 320)"
      ]
     },
     "execution_count": 13,
     "metadata": {},
     "output_type": "execute_result"
    }
   ],
   "source": [
    "EOUT.shape"
   ]
  },
  {
   "cell_type": "code",
   "execution_count": 14,
   "metadata": {
    "scrolled": true
   },
   "outputs": [
    {
     "data": {
      "text/plain": [
       "(1, 320)"
      ]
     },
     "execution_count": 14,
     "metadata": {},
     "output_type": "execute_result"
    }
   ],
   "source": [
    "ha=np.multiply(Mr, eOut.T)\n",
    "ho = Mr * eOut.T\n",
    "ho.shape"
   ]
  },
  {
   "cell_type": "code",
   "execution_count": 24,
   "metadata": {},
   "outputs": [
    {
     "ename": "ValueError",
     "evalue": "cannot reshape array of size 102400 into shape (320,)",
     "output_type": "error",
     "traceback": [
      "\u001b[0;31m---------------------------------------------------------------------------\u001b[0m",
      "\u001b[0;31mValueError\u001b[0m                                Traceback (most recent call last)",
      "\u001b[0;32m<ipython-input-24-b2b47db90a12>\u001b[0m in \u001b[0;36m<module>\u001b[0;34m()\u001b[0m\n\u001b[1;32m      4\u001b[0m \u001b[0myy\u001b[0m \u001b[0;34m=\u001b[0m \u001b[0;34m(\u001b[0m\u001b[0mnp\u001b[0m\u001b[0;34m.\u001b[0m\u001b[0mimag\u001b[0m\u001b[0;34m(\u001b[0m\u001b[0mx\u001b[0m\u001b[0;34m)\u001b[0m\u001b[0;34m)\u001b[0m\u001b[0;34m.\u001b[0m\u001b[0mreshape\u001b[0m\u001b[0;34m(\u001b[0m\u001b[0;36m2\u001b[0m\u001b[0;34m*\u001b[0m\u001b[0mM\u001b[0m\u001b[0;34m*\u001b[0m\u001b[0mN\u001b[0m\u001b[0;34m)\u001b[0m\u001b[0;34m\u001b[0m\u001b[0;34m\u001b[0m\u001b[0m\n\u001b[1;32m      5\u001b[0m \u001b[0;31m# z = kl.reshape(2*M*N)\u001b[0m\u001b[0;34m\u001b[0m\u001b[0;34m\u001b[0m\u001b[0;34m\u001b[0m\u001b[0m\n\u001b[0;32m----> 6\u001b[0;31m \u001b[0mz\u001b[0m \u001b[0;34m=\u001b[0m \u001b[0mu_exact\u001b[0m\u001b[0;34m.\u001b[0m\u001b[0mreshape\u001b[0m\u001b[0;34m(\u001b[0m\u001b[0;36m2\u001b[0m\u001b[0;34m*\u001b[0m\u001b[0mM\u001b[0m\u001b[0;34m*\u001b[0m\u001b[0mN\u001b[0m\u001b[0;34m)\u001b[0m\u001b[0;34m\u001b[0m\u001b[0;34m\u001b[0m\u001b[0m\n\u001b[0m\u001b[1;32m      7\u001b[0m \u001b[0mfig\u001b[0m \u001b[0;34m=\u001b[0m \u001b[0mplt\u001b[0m\u001b[0;34m.\u001b[0m\u001b[0mfigure\u001b[0m\u001b[0;34m(\u001b[0m\u001b[0mfigsize\u001b[0m\u001b[0;34m=\u001b[0m\u001b[0;34m(\u001b[0m\u001b[0;36m12\u001b[0m\u001b[0;34m,\u001b[0m \u001b[0;36m10\u001b[0m\u001b[0;34m)\u001b[0m\u001b[0;34m)\u001b[0m\u001b[0;34m\u001b[0m\u001b[0;34m\u001b[0m\u001b[0m\n\u001b[1;32m      8\u001b[0m \u001b[0max\u001b[0m \u001b[0;34m=\u001b[0m \u001b[0mfig\u001b[0m\u001b[0;34m.\u001b[0m\u001b[0mgca\u001b[0m\u001b[0;34m(\u001b[0m\u001b[0;34m)\u001b[0m\u001b[0;34m\u001b[0m\u001b[0;34m\u001b[0m\u001b[0m\n",
      "\u001b[0;31mValueError\u001b[0m: cannot reshape array of size 102400 into shape (320,)"
     ]
    }
   ],
   "source": [
    "import numpy as np\n",
    "import matplotlib.pyplot as plt\n",
    "xx = (np.real(x)).reshape(2*M*N)\n",
    "yy = (np.imag(x)).reshape(2*M*N)\n",
    "# z = kl.reshape(2*M*N)\n",
    "z = EOUT.reshape(2*M*N)\n",
    "fig = plt.figure(figsize=(12, 10))\n",
    "ax = fig.gca()\n",
    "tpc = ax.tripcolor(xx,yy,np.real(z),cmap=plt.cm.get_cmap('RdBu_r'))\n",
    "circle2 = plt.Circle((0., 0.), rad, color='black', fill=False)\n",
    "ax.add_artist(circle2)\n",
    "fig.colorbar(tpc)"
   ]
  },
  {
   "cell_type": "code",
   "execution_count": 17,
   "metadata": {},
   "outputs": [
    {
     "data": {
      "text/plain": [
       "(320, 1)"
      ]
     },
     "execution_count": 17,
     "metadata": {},
     "output_type": "execute_result"
    }
   ],
   "source": [
    "eOut.shape"
   ]
  },
  {
   "cell_type": "code",
   "execution_count": 18,
   "metadata": {},
   "outputs": [],
   "source": [
    "kl = np.zeros(eOut.shape, dtype=np.complex128)"
   ]
  },
  {
   "cell_type": "code",
   "execution_count": 19,
   "metadata": {},
   "outputs": [],
   "source": [
    "kl[idx] = eOut[idx]"
   ]
  },
  {
   "cell_type": "code",
   "execution_count": 20,
   "metadata": {},
   "outputs": [],
   "source": [
    "xxx, yyy = np.meshgrid(xx, yy)\n",
    "plot_grid = np.zeros((2, 2*M*N, 2*M*N))\n",
    "plot_grid[0, :, :] = xxx\n",
    "plot_grid[1, :, :] = yyy"
   ]
  },
  {
   "cell_type": "code",
   "execution_count": 21,
   "metadata": {},
   "outputs": [],
   "source": [
    "ha = xx.reshape(2*M*N,1)"
   ]
  },
  {
   "cell_type": "code",
   "execution_count": 22,
   "metadata": {},
   "outputs": [
    {
     "data": {
      "text/plain": [
       "(2, 320, 320)"
      ]
     },
     "execution_count": 22,
     "metadata": {},
     "output_type": "execute_result"
    }
   ],
   "source": [
    "plot_grid.shape"
   ]
  },
  {
   "cell_type": "code",
   "execution_count": 23,
   "metadata": {},
   "outputs": [],
   "source": [
    "from analytical import penetrable_circle\n",
    "u_exact = penetrable_circle(ko, ko*refInd, rad, plot_grid)"
   ]
  },
  {
   "cell_type": "code",
   "execution_count": null,
   "metadata": {},
   "outputs": [],
   "source": [
    "ha = np.zeros"
   ]
  },
  {
   "cell_type": "code",
   "execution_count": null,
   "metadata": {},
   "outputs": [],
   "source": [
    "ha.shape"
   ]
  },
  {
   "cell_type": "code",
   "execution_count": null,
   "metadata": {},
   "outputs": [],
   "source": [
    "plot_grid[2]"
   ]
  },
  {
   "cell_type": "code",
   "execution_count": null,
   "metadata": {},
   "outputs": [],
   "source": []
  }
 ],
 "metadata": {
  "kernelspec": {
   "display_name": "Python 3",
   "language": "python",
   "name": "python3"
  },
  "language_info": {
   "codemirror_mode": {
    "name": "ipython",
    "version": 3
   },
   "file_extension": ".py",
   "mimetype": "text/x-python",
   "name": "python",
   "nbconvert_exporter": "python",
   "pygments_lexer": "ipython3",
   "version": "3.7.2"
  }
 },
 "nbformat": 4,
 "nbformat_minor": 2
}
